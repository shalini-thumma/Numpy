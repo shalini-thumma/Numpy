{
  "cells": [
    {
      "cell_type": "markdown",
      "metadata": {
        "id": "iykB-DnWBX1V"
      },
      "source": [
        "<h2 align=\"center\"> Logistic Regression </h2>"
      ]
    },
    {
      "cell_type": "markdown",
      "metadata": {
        "id": "IQHbeuuQBX1W"
      },
      "source": [
        ""
      ]
    },
    {
      "cell_type": "markdown",
      "metadata": {
        "id": "PuFV3UdbBX1W"
      },
      "source": [
        "### Task 2: Load the Data and Libraries\n",
        "---"
      ]
    },
    {
      "cell_type": "code",
      "execution_count": null,
      "metadata": {
        "id": "v_EUpm9nBX1W"
      },
      "outputs": [],
      "source": [
        "import numpy as np\n",
        "import matplotlib.pyplot as plt\n",
        "import seaborn as sns\n",
        "import pandas as pd\n",
        "plt.style.use(\"ggplot\")\n",
        "%matplotlib inline"
      ]
    },
    {
      "cell_type": "code",
      "execution_count": null,
      "metadata": {
        "id": "wi12NJo5BX1X"
      },
      "outputs": [],
      "source": [
        "from pylab import rcParams\n",
        "rcParams['figure.figsize'] = 12, 8"
      ]
    },
    {
      "cell_type": "code",
      "execution_count": null,
      "metadata": {
        "id": "qnBRRLWuBX1Y"
      },
      "outputs": [],
      "source": [
        "df ="
      ]
    },
    {
      "cell_type": "code",
      "execution_count": null,
      "metadata": {
        "id": "XxA9HnO6BX1Y",
        "outputId": "c8c193cb-6bbf-4651-d08e-69863395b6d7"
      },
      "outputs": [
        {
          "data": {
            "text/html": [
              "<div>\n",
              "<style scoped>\n",
              "    .dataframe tbody tr th:only-of-type {\n",
              "        vertical-align: middle;\n",
              "    }\n",
              "\n",
              "    .dataframe tbody tr th {\n",
              "        vertical-align: top;\n",
              "    }\n",
              "\n",
              "    .dataframe thead th {\n",
              "        text-align: right;\n",
              "    }\n",
              "</style>\n",
              "<table border=\"1\" class=\"dataframe\">\n",
              "  <thead>\n",
              "    <tr style=\"text-align: right;\">\n",
              "      <th></th>\n",
              "      <th>DMV_Test_1</th>\n",
              "      <th>DMV_Test_2</th>\n",
              "      <th>Results</th>\n",
              "    </tr>\n",
              "  </thead>\n",
              "  <tbody>\n",
              "    <tr>\n",
              "      <th>0</th>\n",
              "      <td>34.623660</td>\n",
              "      <td>78.024693</td>\n",
              "      <td>0</td>\n",
              "    </tr>\n",
              "    <tr>\n",
              "      <th>1</th>\n",
              "      <td>30.286711</td>\n",
              "      <td>43.894998</td>\n",
              "      <td>0</td>\n",
              "    </tr>\n",
              "    <tr>\n",
              "      <th>2</th>\n",
              "      <td>35.847409</td>\n",
              "      <td>72.902198</td>\n",
              "      <td>0</td>\n",
              "    </tr>\n",
              "    <tr>\n",
              "      <th>3</th>\n",
              "      <td>60.182599</td>\n",
              "      <td>86.308552</td>\n",
              "      <td>1</td>\n",
              "    </tr>\n",
              "    <tr>\n",
              "      <th>4</th>\n",
              "      <td>79.032736</td>\n",
              "      <td>75.344376</td>\n",
              "      <td>1</td>\n",
              "    </tr>\n",
              "  </tbody>\n",
              "</table>\n",
              "</div>"
            ],
            "text/plain": [
              "   DMV_Test_1  DMV_Test_2  Results\n",
              "0   34.623660   78.024693        0\n",
              "1   30.286711   43.894998        0\n",
              "2   35.847409   72.902198        0\n",
              "3   60.182599   86.308552        1\n",
              "4   79.032736   75.344376        1"
            ]
          },
          "execution_count": 4,
          "metadata": {},
          "output_type": "execute_result"
        }
      ],
      "source": []
    },
    {
      "cell_type": "code",
      "execution_count": null,
      "metadata": {
        "id": "_twP73i_BX1Y"
      },
      "outputs": [],
      "source": []
    },
    {
      "cell_type": "markdown",
      "metadata": {
        "id": "_8wTrdeLBX1Z"
      },
      "source": [
        "### Task 3: Visualize the Data\n",
        "---"
      ]
    },
    {
      "cell_type": "code",
      "execution_count": null,
      "metadata": {
        "id": "eeofXGDWBX1Z"
      },
      "outputs": [],
      "source": []
    },
    {
      "cell_type": "markdown",
      "metadata": {
        "id": "B_ovqeINBX1Z"
      },
      "source": [
        "### Task 4: Define the Logistic Sigmoid Function $\\sigma(z)$\n",
        "---\n",
        "\n",
        "$$ \\sigma(z) = \\frac{1}{1+e^{-z}}$$"
      ]
    },
    {
      "cell_type": "code",
      "execution_count": 4,
      "metadata": {
        "colab": {
          "base_uri": "https://localhost:8080/",
          "height": 507
        },
        "id": "ygKA_ddwBX1Z",
        "outputId": "f7059877-03e8-4249-da81-6211dd0b03ff"
      },
      "outputs": [
        {
          "output_type": "stream",
          "name": "stdout",
          "text": [
            "Enter a value for z: 4\n",
            "Sigmoid of 4.0 is: 0.9820137900379085\n"
          ]
        },
        {
          "output_type": "display_data",
          "data": {
            "text/plain": [
              "<Figure size 640x480 with 1 Axes>"
            ],
            "image/png": "[encoded data removed]"
          },
          "metadata": {}
        }
      ],
      "source": [
        "import numpy as np\n",
        "import matplotlib.pyplot as plt\n",
        "\n",
        "#sigmoid func\n",
        "def sigmoid(z):\n",
        "    return 1 / (1 + np.exp(-z))\n",
        "\n",
        "#user input\n",
        "input = float(input(\"Enter z value: \"))\n",
        "sigmoid_value= sigmoid(input)\n",
        "print(f\"Sigmoid of {input} is: {sigmoid_value}\")\n",
        "\n",
        "#generating range of values to plot the curve\n",
        "z_values = np.linspace(-10, 10, 100)\n",
        "sigmoid_values = sigmoid(z_values)\n",
        "\n",
        "# Plotting the curve\n",
        "plt.plot(z_values, sigmoid_values, label='Sigmoid curve')\n",
        "plt.scatter(input, sigmoid_value, color='red', label=f'Input z={input}')  # Mark user input on curve\n",
        "plt.title(\"Sigmoid Function Curve\")\n",
        "plt.xlabel(\"z\")\n",
        "plt.ylabel(\"σ(z)\")\n",
        "plt.legend()\n",
        "plt.grid(True)\n",
        "plt.show()\n"
      ]
    },
    {
      "cell_type": "code",
      "execution_count": null,
      "metadata": {
        "id": "dvOe4mGPBX1Z"
      },
      "outputs": [],
      "source": []
    },
    {
      "cell_type": "markdown",
      "metadata": {
        "id": "KIRPtxpnBX1Z"
      },
      "source": [
        "### Task 5: Compute the Cost Function $J(\\theta)$ and Gradient\n",
        "---"
      ]
    },
    {
      "cell_type": "markdown",
      "metadata": {
        "id": "wHITT4s8BX1Z"
      },
      "source": [
        "The objective of logistic regression is to minimize the cost function\n",
        "\n",
        "$$J(\\theta) = -\\frac{1}{m} \\sum_{i=1}^{m} [ y^{(i)}log(h_{\\theta}(x^{(i)})) + (1 - y^{(i)})log(1 - (h_{\\theta}(x^{(i)}))]$$\n",
        "\n",
        "where the gradient of the cost function is given by\n",
        "\n",
        "$$ \\frac{\\partial J(\\theta)}{\\partial \\theta_j} = \\frac{1}{m} \\sum_{i=1}^{m} (h_{\\theta}(x^{(i)}) - y^{(i)})x_j^{(i)}$$"
      ]
    },
    {
      "cell_type": "code",
      "execution_count": 5,
      "metadata": {
        "colab": {
          "base_uri": "https://localhost:8080/"
        },
        "id": "TlqVXCi6BX1Z",
        "outputId": "dc1f00c6-357e-4589-fd5f-9206f57a9832"
      },
      "outputs": [
        {
          "output_type": "stream",
          "name": "stdout",
          "text": [
            "Initial Cost J(theta): 0.6931471805599453\n",
            "Gradient: [ 0.  -0.5]\n"
          ]
        }
      ],
      "source": [
        "import numpy as np\n",
        "\n",
        "# Sigmoid function\n",
        "def sigmoid(z):\n",
        "    return 1 / (1 + np.exp(-z))\n",
        "\n",
        "# Cost function\n",
        "def compute_cost(theta, X, y):\n",
        "    m = len(y)\n",
        "    h = sigmoid(np.dot(X, theta))\n",
        "    cost = (-1/m) * np.sum(y * np.log(h) + (1 - y) * np.log(1 - h))\n",
        "    return cost\n",
        "\n",
        "# Gradient function\n",
        "def compute_gradient(theta, X, y):\n",
        "    m = len(y)\n",
        "    h = sigmoid(np.dot(X, theta))\n",
        "    gradient = (1/m) * np.dot(X.T, (h - y))\n",
        "    return gradient\n",
        "#eg\n",
        "X = np.array([[1, 2], [1, 3], [1, 4], [1, 5]])\n",
        "y = np.array([0, 0, 1, 1])\n",
        "theta = np.zeros(X.shape[1])\n",
        "\n",
        "\n",
        "cost = compute_cost(theta, X, y)\n",
        "grad = compute_gradient(theta, X, y)\n",
        "\n",
        "print(\"Initial Cost J(theta):\", cost)\n",
        "print(\"Gradient:\", grad)\n"
      ]
    },
    {
      "cell_type": "markdown",
      "metadata": {
        "id": "B_De-GlmBX1Z"
      },
      "source": [
        ""
      ]
    },
    {
      "cell_type": "markdown",
      "metadata": {
        "id": "3ibSZtV_BX1Z"
      },
      "source": [
        "### Task 6: Cost and Gradient at Initialization\n",
        "---"
      ]
    },
    {
      "cell_type": "code",
      "execution_count": null,
      "metadata": {
        "id": "BXdfIlj0BX1Z"
      },
      "outputs": [],
      "source": [
        "import numpy as np\n",
        "\n",
        "# Sigmoid function\n",
        "def sigmoid(z):\n",
        "    return 1 / (1 + np.exp(-z))\n",
        "\n",
        "# Cost function J(theta)\n",
        "def compute_cost(X, y, theta):\n",
        "    m = len(y)\n",
        "    h = sigmoid(X @ theta)\n",
        "    cost = (-1/m) * (y.T @ np.log(h) + (1-y).T @ np.log(1-h))\n",
        "    return cost\n",
        "\n",
        "# Gradient function\n",
        "def compute_gradient(X, y, theta):\n",
        "    m = len(y)\n",
        "    h = sigmoid(X @ theta)\n",
        "    gradient = (1/m) * (X.T @ (h - y))\n",
        "    return gradient\n",
        "\n",
        "# Example dataset (tiny one for demo)\n",
        "X = np.array([[1, 2], [1, 3], [1, 4], [1, 5]])   # Add intercept (first col = 1)\n",
        "y = np.array([0, 0, 1, 1])\n",
        "\n",
        "# Initialize theta with zeros\n",
        "theta = np.zeros(X.shape[1])\n",
        "\n",
        "# Compute initial cost and gradient\n",
        "initial_cost = compute_cost(X, y, theta)\n",
        "initial_gradient = compute_gradient(X, y, theta)\n",
        "\n",
        "print(\"Initial Cost:\", initial_cost)\n",
        "print(\"Initial Gradient:\", initial_gradient)\n"
      ]
    },
    {
      "cell_type": "code",
      "execution_count": null,
      "metadata": {
        "id": "Wim1JrM4BX1Z"
      },
      "outputs": [],
      "source": []
    },
    {
      "cell_type": "markdown",
      "metadata": {
        "id": "07rI08TYBX1Z"
      },
      "source": [
        ""
      ]
    },
    {
      "cell_type": "markdown",
      "metadata": {
        "id": "UpckKWiMBX1a"
      },
      "source": [
        "### Task 7: Gradient Descent\n",
        "---"
      ]
    },
    {
      "cell_type": "markdown",
      "metadata": {
        "id": "Zv0LLG0qBX1a"
      },
      "source": [
        "Minimize the cost function $J(\\theta)$ by updating the below equation and repeat until convergence\n",
        "$\\theta_j := \\theta_j - \\alpha \\frac{\\partial J(\\theta)}{\\partial \\theta_j}$ (simultaneously update $\\theta_j$ for all $j$)"
      ]
    },
    {
      "cell_type": "code",
      "execution_count": null,
      "metadata": {
        "id": "V3t7Hd5NBX1a"
      },
      "outputs": [],
      "source": []
    },
    {
      "cell_type": "code",
      "execution_count": null,
      "metadata": {
        "id": "Pq82L5fEBX1a"
      },
      "outputs": [],
      "source": []
    },
    {
      "cell_type": "code",
      "execution_count": null,
      "metadata": {
        "id": "uJLjkt6GBX1a"
      },
      "outputs": [],
      "source": []
    },
    {
      "cell_type": "markdown",
      "metadata": {
        "id": "W3D0GejnBX1a"
      },
      "source": [
        ""
      ]
    },
    {
      "cell_type": "markdown",
      "metadata": {
        "id": "KT1_M92yBX1a"
      },
      "source": [
        "### Task 8: Plotting the Convergence of $J(\\theta)$\n",
        "---"
      ]
    },
    {
      "cell_type": "markdown",
      "metadata": {
        "id": "cSbEWc8jBX1a"
      },
      "source": [
        "Plot $J(\\theta)$ against the number of iterations of gradient descent:"
      ]
    },
    {
      "cell_type": "code",
      "execution_count": null,
      "metadata": {
        "id": "NFl6VyGJBX1a"
      },
      "outputs": [],
      "source": []
    },
    {
      "cell_type": "code",
      "execution_count": null,
      "metadata": {
        "id": "JyY4Q80YBX1a"
      },
      "outputs": [],
      "source": []
    },
    {
      "cell_type": "markdown",
      "metadata": {
        "id": "upDNidcbBX1a"
      },
      "source": [
        ""
      ]
    },
    {
      "cell_type": "markdown",
      "metadata": {
        "id": "HLuG2JdBBX1a"
      },
      "source": [
        "### Task 9: Plotting the decision boundary\n",
        "---"
      ]
    },
    {
      "cell_type": "markdown",
      "metadata": {
        "id": "8EN7A2x7BX1a"
      },
      "source": [
        "$h_\\theta(x) = \\sigma(z)$, where $\\sigma$ is the logistic sigmoid function and $z = \\theta^Tx$\n",
        "\n",
        "When $h_\\theta(x) \\geq 0.5$ the model predicts class \"1\":\n",
        "\n",
        "$\\implies \\sigma(\\theta^Tx) \\geq 0.5$\n",
        "\n",
        "$\\implies \\theta^Tx \\geq 0$ predict class \"1\"\n",
        "\n",
        "Hence, $\\theta_1 + \\theta_2x_2 + \\theta_3x_3 = 0$ is the equation for the decision boundary, giving us\n",
        "\n",
        "$ x_3 = \\frac{-(\\theta_1+\\theta_2x_2)}{\\theta_3}$"
      ]
    },
    {
      "cell_type": "code",
      "execution_count": null,
      "metadata": {
        "id": "T9lpjDhMBX1a"
      },
      "outputs": [],
      "source": []
    },
    {
      "cell_type": "code",
      "execution_count": null,
      "metadata": {
        "id": "o1MVd91pBX1a"
      },
      "outputs": [],
      "source": []
    },
    {
      "cell_type": "markdown",
      "metadata": {
        "id": "SPtziflmBX1a"
      },
      "source": [
        ""
      ]
    },
    {
      "cell_type": "markdown",
      "metadata": {
        "id": "GS1QgagzBX1a"
      },
      "source": [
        "### Task 10: Predictions using the optimized $\\theta$ values\n",
        "---"
      ]
    },
    {
      "cell_type": "markdown",
      "metadata": {
        "id": "i5Q5IG8xBX1a"
      },
      "source": [
        "$h_\\theta(x) = x\\theta$"
      ]
    },
    {
      "cell_type": "code",
      "execution_count": null,
      "metadata": {
        "id": "LNUzx3i6BX1n"
      },
      "outputs": [],
      "source": []
    },
    {
      "cell_type": "code",
      "execution_count": null,
      "metadata": {
        "id": "4EfMxlLIBX1o"
      },
      "outputs": [],
      "source": []
    },
    {
      "cell_type": "code",
      "execution_count": null,
      "metadata": {
        "id": "64DolQ0fBX1o"
      },
      "outputs": [],
      "source": []
    }
  ],
  "metadata": {
    "kernelspec": {
      "display_name": "Python 3",
      "language": "python",
      "name": "python3"
    },
    "language_info": {
      "codemirror_mode": {
        "name": "ipython",
        "version": 3
      },
      "file_extension": ".py",
      "mimetype": "text/x-python",
      "name": "python",
      "nbconvert_exporter": "python",
      "pygments_lexer": "ipython3",
      "version": "3.13.3"
    },
    "colab": {
      "provenance": []
    }
  },
  "nbformat": 4,
  "nbformat_minor": 0
}