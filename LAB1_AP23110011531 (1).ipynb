{
  "cells": [
    {
      "cell_type": "markdown",
      "id": "20dc80e4",
      "metadata": {
        "id": "20dc80e4"
      },
      "source": [
        "# 🧑‍💻 NumPy Complete Guided Project\n",
        "**Instructor / Student Colab Notebook** – covers *all* key concepts from `Numpy‑1` to `Numpy‑5`.\n",
        "\n",
        "*Generated: 08 Aug 2025*"
      ]
    },
    {
      "cell_type": "markdown",
      "id": "e8b8b6cf",
      "metadata": {
        "id": "e8b8b6cf"
      },
      "source": [
        "\n",
        "**Table of Contents**\n",
        "\n",
        "1. [Setup](#setup)  \n",
        "2. [Array Creation & Dtypes](#creation)  \n",
        "3. [Array Attributes & Inspection](#attributes)  \n",
        "4. [Indexing, Slicing, Fancy Indexing](#indexing)  \n",
        "5. [Reshaping, Transpose & Copies vs Views](#reshape)  \n",
        "6. [Joining, Splitting, Set & Sorting Ops](#join)  \n",
        "7. [Arithmetic Ops, Universal Functions](#arithmetic)  \n",
        "8. [Broadcasting (Rules + Examples)](#broadcast)  \n",
        "9. [Statistics & Aggregations](#stats)  \n",
        "10. [Random Numbers & Reproducibility](#random)  \n",
        "11. [Structured / Recarrays](#structured)  \n",
        "12. [Linear Algebra Essentials](#linalg)  \n",
        "13. [File I/O (`npy`, `npz`, `txt`)](#io)  \n",
        "14. [Datetime64 & Timedelta64](#datetime)  \n",
        "15. [Masked Arrays & NaNs](#mask)  \n",
        "16. [Mini‑Project — Fitness Data Analysis](#project)  \n",
        "17. [Conclusion & Next Steps](#conclusion)  \n"
      ]
    },
    {
      "cell_type": "markdown",
      "id": "9170f3ee",
      "metadata": {
        "id": "9170f3ee"
      },
      "source": [
        "## <a name='setup'></a>1️⃣ Setup"
      ]
    },
    {
      "cell_type": "code",
      "execution_count": null,
      "id": "4f54988f",
      "metadata": {
        "colab": {
          "base_uri": "https://localhost:8080/"
        },
        "id": "4f54988f",
        "outputId": "407aee52-0d8c-4f12-e0c3-e85fb710e59a"
      },
      "outputs": [
        {
          "output_type": "stream",
          "name": "stdout",
          "text": [
            "NumPy version: 2.0.2\n"
          ]
        }
      ],
      "source": [
        "import numpy as np, math, os, pathlib, types, textwrap, random\n",
        "print('NumPy version:', np.__version__)"
      ]
    },
    {
      "cell_type": "markdown",
      "id": "c7f7b2c8",
      "metadata": {
        "id": "c7f7b2c8"
      },
      "source": [
        "## <a name='creation'></a>2️⃣ Array Creation & Dtypes"
      ]
    },
    {
      "cell_type": "markdown",
      "id": "47405152",
      "metadata": {
        "id": "47405152"
      },
      "source": [
        "Key functions: `np.array`, `np.arange`, `np.linspace`, `zeros`, `ones`, `full`, `eye`, `identity`, `diag`, `empty`"
      ]
    },
    {
      "cell_type": "code",
      "execution_count": null,
      "id": "801e99ad",
      "metadata": {
        "colab": {
          "base_uri": "https://localhost:8080/"
        },
        "id": "801e99ad",
        "outputId": "e362b303-033a-4b13-c863-2b949fd0133f"
      },
      "outputs": [
        {
          "output_type": "stream",
          "name": "stdout",
          "text": [
            "[1 2 3]\n",
            "[0.  0.2 0.4 0.6 0.8 1. ]\n",
            "[[7.5 7.5 7.5]\n",
            " [7.5 7.5 7.5]]\n",
            "dtypes: int32 float64\n"
          ]
        }
      ],
      "source": [
        "# EXAMPLE\n",
        "arr1 = np.array([1, 2, 3], dtype=np.int32)\n",
        "arr2 = np.linspace(0, 1, 6)\n",
        "arr3 = np.full((2,3), 7.5)\n",
        "print(arr1, arr2, arr3, sep=\"\\n\")\n",
        "print(\"dtypes:\", arr1.dtype, arr2.dtype)\n"
      ]
    },
    {
      "cell_type": "code",
      "execution_count": null,
      "id": "dc63d076",
      "metadata": {
        "colab": {
          "base_uri": "https://localhost:8080/"
        },
        "id": "dc63d076",
        "outputId": "50182c30-0092-4361-e3ce-1485153b671c"
      },
      "outputs": [
        {
          "output_type": "stream",
          "name": "stdout",
          "text": [
            "[[0 1 0 1 0 1 0 1 0 1]\n",
            " [1 0 1 0 1 0 1 0 1 0]\n",
            " [0 1 0 1 0 1 0 1 0 1]\n",
            " [1 0 1 0 1 0 1 0 1 0]\n",
            " [0 1 0 1 0 1 0 1 0 1]\n",
            " [1 0 1 0 1 0 1 0 1 0]\n",
            " [0 1 0 1 0 1 0 1 0 1]\n",
            " [1 0 1 0 1 0 1 0 1 0]\n",
            " [0 1 0 1 0 1 0 1 0 1]\n",
            " [1 0 1 0 1 0 1 0 1 0]]\n"
          ]
        }
      ],
      "source": [
        "# 🖊️ TODO: create a 10×10 chessboard pattern using zeros & ones\n",
        "arr1=np.full((10,10),(0))\n",
        "arr1[1::2,::2]=1\n",
        "arr1[::2,1::2]=1\n",
        "print(arr1)"
      ]
    },
    {
      "cell_type": "markdown",
      "id": "925be762",
      "metadata": {
        "id": "925be762"
      },
      "source": [
        "## <a name='attributes'></a>3️⃣ Array Attributes & Inspection"
      ]
    },
    {
      "cell_type": "markdown",
      "id": "f103bb36",
      "metadata": {
        "id": "f103bb36"
      },
      "source": [
        "`shape`, `ndim`, `size`, `dtype`, `itemsize`, `nbytes`"
      ]
    },
    {
      "cell_type": "code",
      "execution_count": null,
      "id": "ad3eeda1",
      "metadata": {
        "colab": {
          "base_uri": "https://localhost:8080/"
        },
        "id": "ad3eeda1",
        "outputId": "fcf4a173-ce47-4625-8746-e60c8ade073b"
      },
      "outputs": [
        {
          "output_type": "stream",
          "name": "stdout",
          "text": [
            "shape (3, 4) ndim 2 size 12 itemsize 8 total bytes 96\n"
          ]
        }
      ],
      "source": [
        "M = np.arange(12).reshape(3,4)\n",
        "print('shape', M.shape, 'ndim', M.ndim, 'size', M.size, 'itemsize', M.itemsize, 'total bytes', M.nbytes)\n"
      ]
    },
    {
      "cell_type": "code",
      "execution_count": 15,
      "id": "5875fefe",
      "metadata": {
        "colab": {
          "base_uri": "https://localhost:8080/"
        },
        "id": "5875fefe",
        "outputId": "1a8420d6-5698-476b-f031-7e21bb2a2190"
      },
      "outputs": [
        {
          "output_type": "stream",
          "name": "stdout",
          "text": [
            "shape (1000, 1000) ndim 2 size 1000000 itemsize 8 total bytes 8000000\n"
          ]
        }
      ],
      "source": [
        "# 🖊️ TODO: check memory footprint of a 1000×1000 float64 array\n",
        "a=np.arange(1000000).reshape(1000,1000)\n",
        "print('shape', a.shape, 'ndim', a.ndim, 'size', a.size, 'itemsize', a.itemsize, 'total bytes', a.nbytes)\n"
      ]
    },
    {
      "cell_type": "markdown",
      "id": "bd895660",
      "metadata": {
        "id": "bd895660"
      },
      "source": [
        "## <a name='indexing'></a>4️⃣ Indexing, Slicing & Fancy Indexing"
      ]
    },
    {
      "cell_type": "code",
      "execution_count": null,
      "id": "5dc7d4c1",
      "metadata": {
        "colab": {
          "base_uri": "https://localhost:8080/"
        },
        "id": "5dc7d4c1",
        "outputId": "2b8b32b9-fc3f-445a-9908-a036f56a9b67"
      },
      "outputs": [
        {
          "output_type": "stream",
          "name": "stdout",
          "text": [
            "[ 1  6 11 16 21]\n",
            "[[ 1  3  5]\n",
            " [11 13 15]\n",
            " [21 23 25]]\n",
            "multiples of 3: [ 3  6  9 12 15 18 21 24]\n"
          ]
        }
      ],
      "source": [
        "a = np.arange(1,26).reshape(5,5)\n",
        "print(a[:, 0])     # first column\n",
        "print(a[::2, ::2]) # every 2nd row/col\n",
        "mask = (a % 3 == 0)\n",
        "print('multiples of 3:', a[mask])\n"
      ]
    },
    {
      "cell_type": "code",
      "execution_count": 16,
      "id": "9c4bd5f4",
      "metadata": {
        "id": "9c4bd5f4",
        "colab": {
          "base_uri": "https://localhost:8080/"
        },
        "outputId": "87ec82de-454f-4e5f-c426-2d152c1889ed"
      },
      "outputs": [
        {
          "output_type": "stream",
          "name": "stdout",
          "text": [
            "[[21 22 23 24 25]\n",
            " [ 6  7  8  9 10]\n",
            " [11 12 13 14 15]\n",
            " [16 17 18 19 20]\n",
            " [ 1  2  3  4  5]]\n"
          ]
        }
      ],
      "source": [
        "# 🖊️ TODO: use fancy indexing to swap first and last rows of `a`\n",
        "a= np.arange(1,26).reshape(5,5)\n",
        "a[[0, -1], :] = a[[-1, 0], :]\n",
        "\n",
        "print(a)"
      ]
    },
    {
      "cell_type": "markdown",
      "id": "8f4de1d5",
      "metadata": {
        "id": "8f4de1d5"
      },
      "source": [
        "## <a name='reshape'></a>5️⃣ Reshaping, Transpose & Copies vs Views"
      ]
    },
    {
      "cell_type": "code",
      "execution_count": null,
      "id": "053b4ff4",
      "metadata": {
        "colab": {
          "base_uri": "https://localhost:8080/"
        },
        "id": "053b4ff4",
        "outputId": "3e163f60-289b-4283-a205-ef273f71b6d4"
      },
      "outputs": [
        {
          "output_type": "stream",
          "name": "stdout",
          "text": [
            "b is modified: [99  1  2  3  4  5  6  7]\n",
            "b unchanged with copy: [99  1  2  3  4  5  6  7]\n"
          ]
        }
      ],
      "source": [
        "b = np.arange(8)\n",
        "B = b.reshape(2,4)\n",
        "B[0,0] = 99\n",
        "print('b is modified:', b)\n",
        "C = b.reshape(2,4).copy()\n",
        "C[0,0] = -1\n",
        "print('b unchanged with copy:', b)\n"
      ]
    },
    {
      "cell_type": "code",
      "execution_count": 21,
      "id": "a3e599bd",
      "metadata": {
        "id": "a3e599bd",
        "colab": {
          "base_uri": "https://localhost:8080/"
        },
        "outputId": "36733e47-bc50-4d79-ff0a-87f4b39c0a0a"
      },
      "outputs": [
        {
          "output_type": "stream",
          "name": "stdout",
          "text": [
            "[[[ 0  1  2  3]\n",
            "  [ 4  5  6  7]\n",
            "  [ 8  9 10 11]]\n",
            "\n",
            " [[12 13 14 15]\n",
            "  [16 17 18 19]\n",
            "  [20 21 22 23]]]\n",
            "[ 0  1  2  3  4  5  6  7  8  9 10 11 12 13 14 15 16 17 18 19 20 21 22 23]\n",
            "[ 0  1  2  3  4  5  6  7  8  9 10 11 12 13 14 15 16 17 18 19 20 21 22 23]\n",
            "[[[1000    1    2    3]\n",
            "  [   4    5    6    7]\n",
            "  [   8    9   10   11]]\n",
            "\n",
            " [[  12   13   14   15]\n",
            "  [  16   17   18   19]\n",
            "  [  20   21   22   23]]]\n",
            "[[[1000    1    2    3]\n",
            "  [   4    5    6    7]\n",
            "  [   8    9   10   11]]\n",
            "\n",
            " [[  12   13   14   15]\n",
            "  [  16   17   18   19]\n",
            "  [  20   21   22   23]]]\n"
          ]
        }
      ],
      "source": [
        "# 🖊️ TODO: Flatten a 3‑D array into 1‑D using both `ravel` and `flatten`; observe copy vs view.\n",
        "a = np.arange(24).reshape(2, 3, 4)\n",
        "print(a)\n",
        "r = a.ravel()\n",
        "print(r)\n",
        "f = a.flatten()\n",
        "print(f)\n",
        "r[0] = 1000\n",
        "print(a)\n",
        "f[1] = 999\n",
        "print(a)\n"
      ]
    },
    {
      "cell_type": "markdown",
      "id": "2390c4ae",
      "metadata": {
        "id": "2390c4ae"
      },
      "source": [
        "## <a name='join'></a>6️⃣ Joining, Splitting, Set & Sorting Ops"
      ]
    },
    {
      "cell_type": "code",
      "execution_count": null,
      "id": "a53f640a",
      "metadata": {
        "id": "a53f640a"
      },
      "outputs": [],
      "source": [
        "x = np.array([1,3,5]); y = np.array([2,4,6])\n",
        "xy = np.concatenate([x,y])\n",
        "print('union', np.union1d(x,y))\n",
        "print('intersect', np.intersect1d(xy,[1,2,10]))\n",
        "print('sorted descending', np.sort(xy)[::-1])\n"
      ]
    },
    {
      "cell_type": "code",
      "execution_count": 24,
      "id": "4231e729",
      "metadata": {
        "id": "4231e729",
        "colab": {
          "base_uri": "https://localhost:8080/"
        },
        "outputId": "65205e53-e7cb-4daa-9e2b-55b53d2eef4d"
      },
      "outputs": [
        {
          "output_type": "stream",
          "name": "stdout",
          "text": [
            "[1 3 5]\n",
            "[2 4 6]\n"
          ]
        }
      ],
      "source": [
        "# 🖊️ TODO: split `xy` back into two equal halves using `np.array_split`\n",
        "x = np.array([1,3,5]); y = np.array([2,4,6])\n",
        "xy = np.concatenate([x,y])\n",
        "parts = np.array_split(xy, 2)\n",
        "print(parts[0])\n",
        "print(parts[1])"
      ]
    },
    {
      "cell_type": "markdown",
      "id": "e6ebeb68",
      "metadata": {
        "id": "e6ebeb68"
      },
      "source": [
        "## <a name='arithmetic'></a>7️⃣ Arithmetic Ops & Universal Functions"
      ]
    },
    {
      "cell_type": "code",
      "execution_count": null,
      "id": "04a6eda9",
      "metadata": {
        "id": "04a6eda9",
        "colab": {
          "base_uri": "https://localhost:8080/"
        },
        "outputId": "a0225521-4f22-484b-fdc0-d39ac2d3f2d4"
      },
      "outputs": [
        {
          "output_type": "stream",
          "name": "stdout",
          "text": [
            "exp [ 1.          2.71828183  7.3890561  20.08553692 54.59815003]\n",
            "sin [ 0.          0.84147098  0.90929743  0.14112001 -0.7568025 ]\n",
            "vectorised addition [10 11 12 13 14]\n"
          ]
        }
      ],
      "source": [
        "v = np.arange(5)\n",
        "print('exp', np.exp(v))\n",
        "print('sin', np.sin(v))\n",
        "print('vectorised addition', v + 10)\n"
      ]
    },
    {
      "cell_type": "code",
      "execution_count": 25,
      "id": "c011f422",
      "metadata": {
        "id": "c011f422",
        "colab": {
          "base_uri": "https://localhost:8080/"
        },
        "outputId": "5235bcab-cbc1-40b2-e8e9-2f0825cc08da"
      },
      "outputs": [
        {
          "output_type": "stream",
          "name": "stdout",
          "text": [
            "Radians: [0.         0.52359878 0.78539816 1.04719755 1.57079633]\n",
            "Sine: [0.         0.5        0.70710678 0.8660254  1.        ]\n"
          ]
        }
      ],
      "source": [
        "# 🖊️ TODO: given degrees [0,30,45,60,90], compute radians and sin values.\n",
        "\n",
        "deg = np.array([0, 30, 45, 60, 90])\n",
        "rad = np.deg2rad(deg)\n",
        "sin_vals = np.sin(rad)\n",
        "\n",
        "print(\"Radians:\", rad)\n",
        "print(\"Sine:\", sin_vals)\n"
      ]
    },
    {
      "cell_type": "markdown",
      "id": "7c9a5d70",
      "metadata": {
        "id": "7c9a5d70"
      },
      "source": [
        "## <a name='broadcast'></a>8️⃣ Broadcasting Rules"
      ]
    },
    {
      "cell_type": "markdown",
      "id": "aba2764d",
      "metadata": {
        "id": "aba2764d"
      },
      "source": [
        "Rules: compare dimensions from right → left; stretch size 1 dims; mismatch error."
      ]
    },
    {
      "cell_type": "code",
      "execution_count": null,
      "id": "6313899c",
      "metadata": {
        "id": "6313899c",
        "colab": {
          "base_uri": "https://localhost:8080/"
        },
        "outputId": "6ad0dce3-f2fb-4b21-9954-f078333dcd11"
      },
      "outputs": [
        {
          "output_type": "stream",
          "name": "stdout",
          "text": [
            "[[0 1 2 3 4]\n",
            " [1 2 3 4 5]\n",
            " [2 3 4 5 6]]\n"
          ]
        }
      ],
      "source": [
        "row = np.arange(5)\n",
        "col = np.arange(3).reshape(3,1)\n",
        "matrix = row + col  # broadcast to 3×5\n",
        "print(matrix)\n"
      ]
    },
    {
      "cell_type": "code",
      "execution_count": null,
      "id": "de718119",
      "metadata": {
        "id": "de718119",
        "colab": {
          "base_uri": "https://localhost:8080/"
        },
        "outputId": "e6ea8bb1-553d-4117-e6b9-6e322941716e"
      },
      "outputs": [
        {
          "output_type": "stream",
          "name": "stdout",
          "text": [
            "[[  1   2   3   4   5   6   7   8   9  10]\n",
            " [  2   4   6   8  10  12  14  16  18  20]\n",
            " [  3   6   9  12  15  18  21  24  27  30]\n",
            " [  4   8  12  16  20  24  28  32  36  40]\n",
            " [  5  10  15  20  25  30  35  40  45  50]\n",
            " [  6  12  18  24  30  36  42  48  54  60]\n",
            " [  7  14  21  28  35  42  49  56  63  70]\n",
            " [  8  16  24  32  40  48  56  64  72  80]\n",
            " [  9  18  27  36  45  54  63  72  81  90]\n",
            " [ 10  20  30  40  50  60  70  80  90 100]]\n"
          ]
        }
      ],
      "source": [
        "# 🖊️ TODO: use broadcasting to create a 10×10 multiplication table.\n",
        "row=np.arange(1,11)\n",
        "col=np.arange(1,11).reshape(10,1)\n",
        "matrix=row*col\n",
        "print(matrix)"
      ]
    },
    {
      "cell_type": "markdown",
      "id": "38a618c8",
      "metadata": {
        "id": "38a618c8"
      },
      "source": [
        "## <a name='stats'></a>9️⃣ Statistics & Aggregations"
      ]
    },
    {
      "cell_type": "code",
      "execution_count": null,
      "id": "af9ac70d",
      "metadata": {
        "id": "af9ac70d"
      },
      "outputs": [],
      "source": [
        "data = np.random.default_rng(0).integers(1, 100, size=(5,4))\n",
        "print('data\\n', data)\n",
        "print('row sums', data.sum(axis=1))\n",
        "print('col means', data.mean(axis=0))\n"
      ]
    },
    {
      "cell_type": "code",
      "execution_count": 30,
      "id": "63adf5be",
      "metadata": {
        "id": "63adf5be",
        "colab": {
          "base_uri": "https://localhost:8080/"
        },
        "outputId": "54087746-593f-4ef3-f9d8-c16c4703cc9e"
      },
      "outputs": [
        {
          "output_type": "stream",
          "name": "stdout",
          "text": [
            "30.0\n",
            "58.5\n",
            "75.0\n"
          ]
        }
      ],
      "source": [
        "# 🖊️ TODO: compute `np.percentile` (25th, 50th, 75th) of flattened `data`.\n",
        "dt = np.random.default_rng(0).integers(1, 100, size=(5,4))\n",
        "data = dt.flatten()\n",
        "print(np.percentile(data,25))\n",
        "print(np.percentile(data,50))\n",
        "print(np.percentile(data,75))\n"
      ]
    },
    {
      "cell_type": "markdown",
      "id": "8f3c00d7",
      "metadata": {
        "id": "8f3c00d7"
      },
      "source": [
        "## <a name='random'></a>🔟 Random Numbers & Reproducibility"
      ]
    },
    {
      "cell_type": "code",
      "execution_count": null,
      "id": "98016975",
      "metadata": {
        "id": "98016975"
      },
      "outputs": [],
      "source": [
        "rng = np.random.default_rng(42)\n",
        "rand_floats = rng.random(5)\n",
        "rand_ints = rng.integers(low=10, high=50, size=5)\n",
        "print(rand_floats, rand_ints)\n",
        "rng2 = np.random.default_rng(42)\n",
        "assert np.allclose(rand_floats, rng2.random(5))\n"
      ]
    },
    {
      "cell_type": "code",
      "execution_count": 31,
      "id": "35dbadba",
      "metadata": {
        "id": "35dbadba",
        "colab": {
          "base_uri": "https://localhost:8080/"
        },
        "outputId": "47035f85-9068-43dd-be2c-65b8268b524e"
      },
      "outputs": [
        {
          "output_type": "stream",
          "name": "stdout",
          "text": [
            "[6 4 4 2 2 1 1 1 2 5 4 6 4 4 6 5 4 4 4 6 2 5 5 1 3 6 4 1 5 5 6 2 1 6 1 4 1\n",
            " 2 3 3 3 1 1 1 1 5 4 4 2 4 5 3 3 6 5 6 3 5 6 4 6 5 5 3 6 1 4 5 6 4 3 2 3 3\n",
            " 5 6 1 6 4 3 5 4 2 2 5 4 4 3 5 3 2 6 2 2 5 4 1 1 3 5]\n",
            "0.16\n"
          ]
        }
      ],
      "source": [
        "# 🖊️ TODO: simulate rolling a fair six‑sided die 100 times; estimate proportion of 6s.\n",
        "rolls = np.random.default_rng(0).integers(1,7, size = 100)\n",
        "print(rolls)\n",
        "print(np.mean(rolls == 6))\n",
        "\n"
      ]
    },
    {
      "cell_type": "markdown",
      "id": "6cdb04b2",
      "metadata": {
        "id": "6cdb04b2"
      },
      "source": [
        "## <a name='structured'></a>1️⃣1️⃣ Structured / Record Arrays"
      ]
    },
    {
      "cell_type": "code",
      "execution_count": null,
      "id": "d8f64e42",
      "metadata": {
        "id": "d8f64e42",
        "colab": {
          "base_uri": "https://localhost:8080/"
        },
        "outputId": "bcd67c09-ad03-437a-c299-9bb197c5d634"
      },
      "outputs": [
        {
          "output_type": "stream",
          "name": "stdout",
          "text": [
            "['Alice' 'Bob'] 27.5\n"
          ]
        }
      ],
      "source": [
        "people = np.array([('Alice', 25, 55.0), ('Bob', 30, 85.5)],\n",
        "                   dtype=[('name','U10'), ('age','i4'), ('weight','f4')])\n",
        "print(people['name'], people['age'].mean())\n"
      ]
    },
    {
      "cell_type": "code",
      "execution_count": null,
      "id": "7a65fe1d",
      "metadata": {
        "id": "7a65fe1d",
        "colab": {
          "base_uri": "https://localhost:8080/"
        },
        "outputId": "0040944f-7143-485c-9bf9-d1f93e9c2fe6"
      },
      "outputs": [
        {
          "output_type": "stream",
          "name": "stdout",
          "text": [
            "['Alice' 'Bob'] 27.5\n",
            "[('Alice', 25, 55.0, 162.0) ('Bob', 30, 85.5, 175.0)]\n"
          ]
        }
      ],
      "source": [
        "# 🖊️ TODO: add a new field 'height' to the structured array using `np.lib.recfunctions.append_fields` (hint: pip install?).\n",
        "import numpy as np\n",
        "from numpy.lib import recfunctions as rfn\n",
        "\n",
        "people = np.array(\n",
        "    [('Alice', 25, 55.0), ('Bob', 30, 85.5)],\n",
        "    dtype=[('name','U10'), ('age','i4'), ('weight','f4')]\n",
        ")\n",
        "print(people['name'], people['age'].mean())\n",
        "\n",
        "heights = [162.0, 175.0]\n",
        "people_with_height = rfn.append_fields(people, 'height', heights)\n",
        "print(people_with_height)\n"
      ]
    },
    {
      "cell_type": "markdown",
      "id": "df5b617b",
      "metadata": {
        "id": "df5b617b"
      },
      "source": [
        "## <a name='linalg'></a>1️⃣2️⃣ Linear Algebra Essentials"
      ]
    },
    {
      "cell_type": "code",
      "execution_count": 33,
      "id": "3f7fb475",
      "metadata": {
        "id": "3f7fb475",
        "colab": {
          "base_uri": "https://localhost:8080/"
        },
        "outputId": "958c5c70-8699-420f-f285-198b82a3f5ae"
      },
      "outputs": [
        {
          "output_type": "stream",
          "name": "stdout",
          "text": [
            "A·x ≈ b? True\n"
          ]
        }
      ],
      "source": [
        "A = np.random.random((3,3))\n",
        "b = np.random.random(3)\n",
        "x = np.linalg.solve(A, b)\n",
        "print('A·x ≈ b?', np.allclose(A.dot(x), b))\n"
      ]
    },
    {
      "cell_type": "code",
      "execution_count": 32,
      "id": "a8fb02d7",
      "metadata": {
        "id": "a8fb02d7",
        "colab": {
          "base_uri": "https://localhost:8080/"
        },
        "outputId": "079f322f-717b-46a9-aebc-68b8cf5224f4"
      },
      "outputs": [
        {
          "output_type": "stream",
          "name": "stdout",
          "text": [
            "eigenvalues: [ 1.2667774 +0.j         -0.12014059+0.23375461j -0.12014059-0.23375461j]\n",
            "eigenvectors: [[ 0.47213949+0.j          0.67153129+0.j          0.67153129-0.j        ]\n",
            " [ 0.54896646+0.j         -0.3835244 -0.29300277j -0.3835244 +0.29300277j]\n",
            " [ 0.68972468+0.j         -0.48758954+0.2799296j  -0.48758954-0.2799296j ]]\n"
          ]
        }
      ],
      "source": [
        "# 🖊️ TODO: compute eigenvalues of `A` using `np.linalg.eig`.\n",
        "A = np.random.random((3,3))\n",
        "eigenvalues, eigenvectors = np.linalg.eig(A)\n",
        "print('eigenvalues:', eigenvalues)\n",
        "print('eigenvectors:', eigenvectors)\n"
      ]
    },
    {
      "cell_type": "markdown",
      "id": "e8fd753c",
      "metadata": {
        "id": "e8fd753c"
      },
      "source": [
        "## <a name='io'></a>1️⃣3️⃣ File I/O (`npy`, `npz`, `txt`)"
      ]
    },
    {
      "cell_type": "code",
      "execution_count": null,
      "id": "bd6dc026",
      "metadata": {
        "id": "bd6dc026",
        "colab": {
          "base_uri": "https://localhost:8080/",
          "height": 193
        },
        "outputId": "de74463d-1bfc-4546-9403-78a2cf0ba989"
      },
      "outputs": [
        {
          "output_type": "error",
          "ename": "NameError",
          "evalue": "name 'A' is not defined",
          "traceback": [
            "\u001b[0;31m---------------------------------------------------------------------------\u001b[0m",
            "\u001b[0;31mNameError\u001b[0m                                 Traceback (most recent call last)",
            "\u001b[0;32m/tmp/ipython-input-3360312836.py\u001b[0m in \u001b[0;36m<cell line: 0>\u001b[0;34m()\u001b[0m\n\u001b[0;32m----> 1\u001b[0;31m \u001b[0mnp\u001b[0m\u001b[0;34m.\u001b[0m\u001b[0msave\u001b[0m\u001b[0;34m(\u001b[0m\u001b[0;34m'array.npy'\u001b[0m\u001b[0;34m,\u001b[0m \u001b[0mA\u001b[0m\u001b[0;34m)\u001b[0m\u001b[0;34m\u001b[0m\u001b[0;34m\u001b[0m\u001b[0m\n\u001b[0m\u001b[1;32m      2\u001b[0m \u001b[0mloaded\u001b[0m \u001b[0;34m=\u001b[0m \u001b[0mnp\u001b[0m\u001b[0;34m.\u001b[0m\u001b[0mload\u001b[0m\u001b[0;34m(\u001b[0m\u001b[0;34m'array.npy'\u001b[0m\u001b[0;34m)\u001b[0m\u001b[0;34m\u001b[0m\u001b[0;34m\u001b[0m\u001b[0m\n\u001b[1;32m      3\u001b[0m \u001b[0mprint\u001b[0m\u001b[0;34m(\u001b[0m\u001b[0;34m'loaded equals A?'\u001b[0m\u001b[0;34m,\u001b[0m \u001b[0mnp\u001b[0m\u001b[0;34m.\u001b[0m\u001b[0mallclose\u001b[0m\u001b[0;34m(\u001b[0m\u001b[0mloaded\u001b[0m\u001b[0;34m,\u001b[0m \u001b[0mA\u001b[0m\u001b[0;34m)\u001b[0m\u001b[0;34m)\u001b[0m\u001b[0;34m\u001b[0m\u001b[0;34m\u001b[0m\u001b[0m\n\u001b[1;32m      4\u001b[0m \u001b[0mnp\u001b[0m\u001b[0;34m.\u001b[0m\u001b[0msavez\u001b[0m\u001b[0;34m(\u001b[0m\u001b[0;34m'multi_arrays.npz'\u001b[0m\u001b[0;34m,\u001b[0m \u001b[0mA\u001b[0m\u001b[0;34m=\u001b[0m\u001b[0mA\u001b[0m\u001b[0;34m,\u001b[0m \u001b[0mb\u001b[0m\u001b[0;34m=\u001b[0m\u001b[0mb\u001b[0m\u001b[0;34m)\u001b[0m\u001b[0;34m\u001b[0m\u001b[0;34m\u001b[0m\u001b[0m\n",
            "\u001b[0;31mNameError\u001b[0m: name 'A' is not defined"
          ]
        }
      ],
      "source": [
        "np.save('array.npy', A)\n",
        "loaded = np.load('array.npy')\n",
        "print('loaded equals A?', np.allclose(loaded, A))\n",
        "np.savez('multi_arrays.npz', A=A, b=b)\n"
      ]
    },
    {
      "cell_type": "code",
      "execution_count": 3,
      "id": "d9552893",
      "metadata": {
        "id": "d9552893",
        "colab": {
          "base_uri": "https://localhost:8080/"
        },
        "outputId": "6800fe00-8e1f-492c-f60b-f37954bb9a40"
      },
      "outputs": [
        {
          "output_type": "stream",
          "name": "stdout",
          "text": [
            "Original data:\n",
            " [[86 15 75 88]\n",
            " [24 46 56 22]\n",
            " [13 43 41  6]\n",
            " [ 2 99  6 87]\n",
            " [61 94  2 92]]\n",
            "\n",
            "Reloaded data:\n",
            " [[86 15 75 88]\n",
            " [24 46 56 22]\n",
            " [13 43 41  6]\n",
            " [ 2 99  6 87]\n",
            " [61 94  2 92]]\n"
          ]
        }
      ],
      "source": [
        "# 🖊️ TODO: Use `np.savetxt` to write `data` (from stats section) to CSV then reload with `np.loadtxt`.\n",
        "import numpy as np\n",
        "\n",
        "data = np.array([\n",
        "    [86, 15, 75, 88],\n",
        "    [24, 46, 56, 22],\n",
        "    [13, 43, 41,  6],\n",
        "    [ 2, 99,  6, 87],\n",
        "    [61, 94,  2, 92]\n",
        "])\n",
        "\n",
        "\n",
        "np.savetxt('data.csv', data, delimiter=',', fmt='%d')\n",
        "\n",
        "loaded = np.loadtxt('data.csv', delimiter=',', dtype=int)\n",
        "\n",
        "print(\"Original data:\\n\", data)\n",
        "print(\"\\nReloaded data:\\n\", loaded)"
      ]
    },
    {
      "cell_type": "markdown",
      "id": "f24f33e3",
      "metadata": {
        "id": "f24f33e3"
      },
      "source": [
        "## <a name='datetime'></a>1️⃣4️⃣ Datetime64 & Timedelta64"
      ]
    },
    {
      "cell_type": "code",
      "execution_count": null,
      "id": "3ce7b543",
      "metadata": {
        "id": "3ce7b543"
      },
      "outputs": [],
      "source": [
        "dates = np.arange('2023-01', '2023-04', dtype='datetime64[D]')\n",
        "delta = dates[1:] - dates[:-1]\n",
        "print(dates[:5], delta[0])\n"
      ]
    },
    {
      "cell_type": "code",
      "execution_count": 5,
      "id": "e493d6f8",
      "metadata": {
        "id": "e493d6f8",
        "colab": {
          "base_uri": "https://localhost:8080/"
        },
        "outputId": "fbf99c5e-8a44-4de8-9a14-e87804201906"
      },
      "outputs": [
        {
          "output_type": "stream",
          "name": "stdout",
          "text": [
            "Total mondays: 13\n"
          ]
        }
      ],
      "source": [
        "# 🖊️ TODO: find how many Mondays appear in `dates` array.\n",
        "import numpy as np\n",
        "\n",
        "dates = np.arange('2023-01', '2023-04', dtype='datetime64[D]')\n",
        "mondays = np.sum(dates.astype('datetime64[D]').astype(int) % 7 == 0)\n",
        "print(\"Total mondays:\", mondays)\n"
      ]
    },
    {
      "cell_type": "markdown",
      "id": "636116b9",
      "metadata": {
        "id": "636116b9"
      },
      "source": [
        "## <a name='mask'></a>1️⃣5️⃣ Masked Arrays & NaNs"
      ]
    },
    {
      "cell_type": "code",
      "execution_count": null,
      "id": "ec30b3ee",
      "metadata": {
        "id": "ec30b3ee"
      },
      "outputs": [],
      "source": [
        "arr = np.array([1, 2, np.nan, 4, np.nan])\n",
        "masked = np.ma.masked_invalid(arr)\n",
        "print(masked.mean())\n"
      ]
    },
    {
      "cell_type": "code",
      "execution_count": 6,
      "id": "1ead3a9c",
      "metadata": {
        "id": "1ead3a9c",
        "colab": {
          "base_uri": "https://localhost:8080/"
        },
        "outputId": "44b8cdce-7b83-46c2-bb29-123ff357c97f"
      },
      "outputs": [
        {
          "output_type": "stream",
          "name": "stdout",
          "text": [
            "Array after replacing NaNs with column means:\n",
            " [[1.  6.5 3. ]\n",
            " [4.  5.  6. ]\n",
            " [7.  8.  9. ]]\n"
          ]
        }
      ],
      "source": [
        "# 🖊️ TODO: replace NaNs with column means in a 2‑D array containing NaNs.\n",
        "import numpy as np\n",
        "\n",
        "arr = np.array([[1, np.nan, 3],\n",
        "                [4, 5, np.nan],\n",
        "                [7, 8, 9]])\n",
        "\n",
        "col_means = np.nanmean(arr, axis=0)\n",
        "inds = np.where(np.isnan(arr))\n",
        "arr[inds] = np.take(col_means, inds[1])\n",
        "print(\"Array after replacing NaNs with column means:\\n\",arr)\n"
      ]
    },
    {
      "cell_type": "markdown",
      "id": "509e6104",
      "metadata": {
        "id": "509e6104"
      },
      "source": [
        "## <a name='project'></a>1️⃣6️⃣ Mini‑Project: Fitness Data Analysis"
      ]
    },
    {
      "cell_type": "markdown",
      "id": "d867d3a6",
      "metadata": {
        "id": "d867d3a6"
      },
      "source": [
        "Load `fitness.txt` (tab‑separated) then follow prompts."
      ]
    },
    {
      "cell_type": "code",
      "execution_count": null,
      "id": "593e50db",
      "metadata": {
        "id": "593e50db"
      },
      "outputs": [],
      "source": [
        "fitness = np.genfromtxt('fitness.txt', delimiter='\\t', dtype=None, encoding=None, names=True)\n",
        "print('columns:', fitness.dtype.names, 'rows:', len(fitness))\n"
      ]
    },
    {
      "cell_type": "code",
      "execution_count": 11,
      "id": "32e514d2",
      "metadata": {
        "id": "32e514d2",
        "colab": {
          "base_uri": "https://localhost:8080/"
        },
        "outputId": "df7d4f6f-1d6c-409a-952d-10f6a3398c8d"
      },
      "outputs": [
        {
          "output_type": "stream",
          "name": "stdout",
          "text": [
            "Monthly step counts:\n",
            "2023-01 208700\n",
            "2023-02 202600\n",
            "2023-03 236000\n",
            "\n",
            "Sleep vs Mood correlation: 0.9693697299271407\n",
            "\n",
            "Weekly summary:\n",
            "2022-12-29 Steps: 23500 Avg Mood: 7.4 Avg Sleep: 7.0\n",
            "2023-01-05 Steps: 46400 Avg Mood: 7.7 Avg Sleep: 7.5\n",
            "2023-01-12 Steps: 47600 Avg Mood: 7.8 Avg Sleep: 7.6\n",
            "2023-01-19 Steps: 48300 Avg Mood: 7.9 Avg Sleep: 7.7\n",
            "2023-01-26 Steps: 48500 Avg Mood: 8.0 Avg Sleep: 7.8\n",
            "2023-02-02 Steps: 49700 Avg Mood: 8.1 Avg Sleep: 7.9\n",
            "2023-02-09 Steps: 50400 Avg Mood: 8.2 Avg Sleep: 8.0\n",
            "2023-02-16 Steps: 51100 Avg Mood: 8.3 Avg Sleep: 8.1\n",
            "2023-02-23 Steps: 51800 Avg Mood: 8.4 Avg Sleep: 8.2\n",
            "2023-03-02 Steps: 52500 Avg Mood: 8.5 Avg Sleep: 8.3\n",
            "2023-03-09 Steps: 53200 Avg Mood: 8.6 Avg Sleep: 8.4\n",
            "2023-03-16 Steps: 53900 Avg Mood: 8.7 Avg Sleep: 8.5\n",
            "2023-03-23 Steps: 54600 Avg Mood: 8.8 Avg Sleep: 8.6\n",
            "2023-03-30 Steps: 15800 Avg Mood: 8.9 Avg Sleep: 8.7\n"
          ]
        }
      ],
      "source": [
        "# 🖊️ TODO: Monthly step count, sleep vs mood correlation, weekly summary, etc.\n",
        "import numpy as np\n",
        "\n",
        "with open('/content/fitness.txt', encoding='utf-8') as f:\n",
        "    data = [line.split() for line in f.readlines()[2:] if line.strip()]\n",
        "\n",
        "dates = np.array([f\"{d[6:]}-{d[3:5]}-{d[:2]}\" for d, *_ in data], 'datetime64[D]')\n",
        "steps = np.array([s for _, s, *_ in data], int)\n",
        "mood = np.array([m for *_, m, _ in data], float)\n",
        "sleep = np.array([s for *_, s in data], float)\n",
        "\n",
        "print(\"Monthly step counts:\")\n",
        "for m in np.unique(dates.astype('datetime64[M]')):\n",
        "    print(m, steps[dates.astype('datetime64[M]') == m].sum())\n",
        "\n",
        "print(\"\\nSleep vs Mood correlation:\", np.corrcoef(sleep, mood)[0, 1])\n",
        "\n",
        "print(\"\\nWeekly summary:\")\n",
        "for w in np.unique(dates.astype('datetime64[W]')):\n",
        "    mask = dates.astype('datetime64[W]') == w\n",
        "    print(w,\n",
        "          \"Steps:\", steps[mask].sum(),\n",
        "          \"Avg Mood:\", round(mood[mask].mean(), 1),\n",
        "          \"Avg Sleep:\", round(sleep[mask].mean(), 1))"
      ]
    },
    {
      "cell_type": "markdown",
      "id": "e7c0e1dc",
      "metadata": {
        "id": "e7c0e1dc"
      },
      "source": [
        "## <a name='conclusion'></a>1️⃣7️⃣ Conclusion & Further Practice\n",
        "Congrats on covering **all core NumPy topics** from your five lecture notebooks!\n",
        "\n",
        "*Keep experimenting, read the official docs, and try converting your NumPy pipelines into Pandas or JAX for more fun.*"
      ]
    }
  ],
  "metadata": {
    "colab": {
      "provenance": []
    },
    "language_info": {
      "name": "python"
    },
    "kernelspec": {
      "name": "python3",
      "display_name": "Python 3"
    }
  },
  "nbformat": 4,
  "nbformat_minor": 5
}